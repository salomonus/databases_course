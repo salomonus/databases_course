{
 "cells": [
  {
   "cell_type": "code",
   "execution_count": 1,
   "id": "62677d4c-51dc-4c71-b250-aab6a3e5b47d",
   "metadata": {},
   "outputs": [],
   "source": [
    "import pandas as pd\n",
    "import numpy as np\n",
    "import warnings\n",
    "warnings.filterwarnings('ignore')"
   ]
  },
  {
   "cell_type": "code",
   "execution_count": 2,
   "id": "d453839a-da54-45b1-95dc-d572246f4cfe",
   "metadata": {},
   "outputs": [],
   "source": [
    "customer = pd.read_csv('customer.csv', sep=';')\n",
    "transaction = pd.read_csv('transaction.csv', sep=';')"
   ]
  },
  {
   "cell_type": "code",
   "execution_count": 3,
   "id": "265edb6a-4364-487c-9b80-8404df8f9c2d",
   "metadata": {},
   "outputs": [],
   "source": [
    "transaction = transaction.replace({np.nan: None})\n",
    "customer = customer.replace({np.nan: None})"
   ]
  },
  {
   "cell_type": "code",
   "execution_count": 4,
   "id": "efedfccd-4d4b-4a4d-9604-6710dad08b81",
   "metadata": {},
   "outputs": [],
   "source": [
    "transaction['list_price']=transaction['list_price'].str.replace(',','.')\n",
    "transaction['standard_cost']=transaction['standard_cost'].str.replace(',','.')"
   ]
  },
  {
   "cell_type": "code",
   "execution_count": 5,
   "id": "fd951c51-764c-42eb-849d-0085f96968d7",
   "metadata": {},
   "outputs": [],
   "source": [
    "import psycopg2 \n",
    "\n",
    "import psycopg2.extras as extras \n",
    "import pandas as pd \n",
    "\n",
    "\n",
    "def execute_values(conn, df, table): \n",
    "    tuples = [tuple(x) for x in df.to_numpy()] \n",
    "    cols = ','.join(list(df.columns)) \n",
    "    query = \"INSERT INTO %s(%s) VALUES %%s\" % (table, cols) \n",
    "    cursor = conn.cursor() \n",
    "    try: \n",
    "        extras.execute_values(cursor, query, tuples) \n",
    "        conn.commit() \n",
    "        return True\n",
    "    except (Exception, psycopg2.DatabaseError) as error: \n",
    "        print(\"Ошибка: %s\" % error) \n",
    "        conn.rollback() \n",
    "        return False\n",
    "    finally:\n",
    "        cursor.close() \n",
    "\n",
    "\n",
    "conn = psycopg2.connect( \n",
    "\tdatabase=\"postgres\", user='postgres', password='arsen', host='127.0.0.1', port='5433'\n",
    ") "
   ]
  },
  {
   "cell_type": "code",
   "execution_count": 6,
   "id": "8ae6d3ce-d370-41a4-b1e7-6fb24e1e2ad8",
   "metadata": {},
   "outputs": [
    {
     "data": {
      "text/plain": [
       "True"
      ]
     },
     "execution_count": 6,
     "metadata": {},
     "output_type": "execute_result"
    }
   ],
   "source": [
    "execute_values(conn, customer, 'module2.customer') "
   ]
  },
  {
   "cell_type": "code",
   "execution_count": 7,
   "id": "5f6ae8cc-a9c2-4777-9e65-77f02a4a6f8d",
   "metadata": {},
   "outputs": [
    {
     "data": {
      "text/plain": [
       "True"
      ]
     },
     "execution_count": 7,
     "metadata": {},
     "output_type": "execute_result"
    }
   ],
   "source": [
    "execute_values(conn, transaction, 'module2.transaction')"
   ]
  },
  {
   "cell_type": "markdown",
   "id": "f9276fba",
   "metadata": {},
   "source": [
    "# Создание базы данных в PostgreSQL при помощи DBeaver"
   ]
  },
  {
   "cell_type": "markdown",
   "id": "23b0e8c0",
   "metadata": {},
   "source": [
    "CREATE SCHEMA module2;<br>\n",
    "<br>\n",
    "<br>\n",
    "CREATE table module2.transaction(<br>\n",
    "transaction_id int4 PRIMARY KEY,<br>\n",
    "product_id int4 NOT NULL,<br>\n",
    "brand varchar(30) NULL,<br>\n",
    "product_line varchar(30) NULL,<br>\n",
    "product_class varchar(30) NULL,<br>\n",
    "product_size varchar(30) null,<br>\n",
    "customer_id int4 NULL,<br>\n",
    "transaction_date timestamp NOT NULL,<br>\n",
    "online_order varchar(30) NULL,<br>\n",
    "order_status varchar(30) NOT NULL,<br>\n",
    "list_price float4 NOT NULL,<br>\n",
    "standard_cost float4 NULL,<br>\n",
    "FOREIGN KEY(customer_id) REFERENCES module1.customer(customer_id)<br>\n",
    ");<br>\n",
    "<br>\n",
    "CREATE table module2.customer(<br>\n",
    "customer_id int4 PRIMARY KEY,<br>\n",
    "first_name varchar(50) NULL,<br>\n",
    "last_name varchar(50) NULL,<br>\n",
    "gender varchar(30) NULL,<br>\n",
    "DOB timestamp NULL,<br>\n",
    "job_title varchar(50) NULL,<br>\n",
    "job_industry_category varchar(50) NULL,<br>\n",
    "wealth_segment varchar(50) NULL,<br>\n",
    "deceased_indicator varchar(50) NULL,<br>\n",
    "owns_car varchar(30) NULL,<br>\n",
    "address varchar(50) NULL,<br>\n",
    "postcode varchar(30) NULL,<br>\n",
    "state varchar(30) NULL,<br>\n",
    "country varchar(30) NULL,<br>\n",
    "property_valuation int4 NULL<br>\n",
    ");<br>"
   ]
  },
  {
   "cell_type": "markdown",
   "id": "3a69ebee",
   "metadata": {},
   "source": [
    "# Запросы к данным"
   ]
  },
  {
   "cell_type": "markdown",
   "id": "7fddc135",
   "metadata": {},
   "source": [
    "### (1 балл) Вывести все уникальные бренды, у которых стандартная стоимость выше 1500 долларов.\n",
    "select distinct brand from module2.transaction <br>where standard_cost>1500 and brand is not null;"
   ]
  },
  {
   "cell_type": "markdown",
   "id": "5033c066",
   "metadata": {},
   "source": [
    "### (1 балл) Вывести все подтвержденные транзакции за период '2017-04-01' по '2017-04-09' включительно.\n",
    "select transaction_id  from module2.transaction <br>where order_status='Approved' and transaction_date between '2017-04-01' and '2017-04-09';\n"
   ]
  },
  {
   "cell_type": "markdown",
   "id": "8dde7ec9",
   "metadata": {},
   "source": [
    "### (1 балл) Вывести все профессии у клиентов из сферы IT или Financial Services, которые начинаются с фразы 'Senior'.\n",
    "select distinct job_title from module2.customer <br>where job_industry_category in ('IT', 'Financial Services') and job_title like 'Senior%';\n"
   ]
  },
  {
   "cell_type": "markdown",
   "id": "44545564",
   "metadata": {},
   "source": [
    "### (1 балл) Вывести все бренды, которые закупают клиенты, работающие в сфере Financial Services\n",
    "select distinct t.brand from module2.transaction t <br>\n",
    "inner join  module2.customer c on t.customer_id = c.customer_id <br>\n",
    "where c.job_industry_category='Financial Services' and t.brand is not null;\n"
   ]
  },
  {
   "cell_type": "markdown",
   "id": "5191a463",
   "metadata": {},
   "source": [
    "### (1 балл) Вывести 10 клиентов, которые оформили онлайн-заказ продукции из брендов 'Giant Bicycles', 'Norco Bicycles', 'Trek Bicycles'.\n",
    "select distinct t.customer_id, c.first_name, c.last_name  from module2.transaction t<br>\n",
    "left join module2.customer c on t.customer_id = c.customer_id <br>\n",
    "where t.brand in ('Giant Bicycles', 'Norco Bicycles', 'Trek Bicycles') and t.online_order='true' limit 10 ;\n"
   ]
  },
  {
   "cell_type": "markdown",
   "id": "37797e85",
   "metadata": {},
   "source": [
    "### (1 балл) Вывести всех клиентов, у которых нет транзакций.\n",
    "select customer_id, first_name, last_name from module2.customer <br>where customer_id not in (select customer_id from module2.transaction);\n"
   ]
  },
  {
   "cell_type": "markdown",
   "id": "4c71ad59",
   "metadata": {},
   "source": [
    "### (2 балла) Вывести всех клиентов из IT, у которых транзакции с максимальной стандартной стоимостью.\n",
    "select distinct t.customer_id, c.first_name, c.last_name  from module2.transaction t <br>\n",
    "inner join  module2.customer c on t.customer_id = c.customer_id <br>\n",
    "where c.job_industry_category='IT' and t.standard_cost =(select max(standard_cost) from module2.transaction);\n"
   ]
  },
  {
   "cell_type": "markdown",
   "id": "9a6961de",
   "metadata": {},
   "source": [
    "### (2 балла) Вывести всех клиентов из сферы IT и Health, у которых есть подтвержденные транзакции за период '2017-07-07' по '2017-07-17'.\n",
    "select distinct t.customer_id, c.first_name, c.last_name from module2.transaction t <br>\n",
    "inner join  module2.customer c on t.customer_id = c.customer_id <br>\n",
    "where c.job_industry_category in ('IT','Health') and t.order_status='Approved' and t.transaction_date between '2017-07-07' and '2017-07-17';"
   ]
  }
 ],
 "metadata": {
  "kernelspec": {
   "display_name": "Python 3 (ipykernel)",
   "language": "python",
   "name": "python3"
  },
  "language_info": {
   "codemirror_mode": {
    "name": "ipython",
    "version": 3
   },
   "file_extension": ".py",
   "mimetype": "text/x-python",
   "name": "python",
   "nbconvert_exporter": "python",
   "pygments_lexer": "ipython3",
   "version": "3.11.5"
  }
 },
 "nbformat": 4,
 "nbformat_minor": 5
}
