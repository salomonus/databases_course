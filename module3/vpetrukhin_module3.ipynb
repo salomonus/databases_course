{
 "cells": [
  {
   "cell_type": "code",
   "execution_count": 1,
   "id": "62677d4c-51dc-4c71-b250-aab6a3e5b47d",
   "metadata": {},
   "outputs": [],
   "source": [
    "import pandas as pd\n",
    "import numpy as np\n",
    "import warnings\n",
    "warnings.filterwarnings('ignore')"
   ]
  },
  {
   "cell_type": "code",
   "execution_count": 2,
   "id": "d453839a-da54-45b1-95dc-d572246f4cfe",
   "metadata": {},
   "outputs": [],
   "source": [
    "customer = pd.read_csv('customer.csv', sep=';')\n",
    "transaction = pd.read_csv('transaction.csv', sep=';')"
   ]
  },
  {
   "cell_type": "code",
   "execution_count": 3,
   "id": "265edb6a-4364-487c-9b80-8404df8f9c2d",
   "metadata": {},
   "outputs": [],
   "source": [
    "transaction = transaction.replace({np.nan: None})\n",
    "customer = customer.replace({np.nan: None})"
   ]
  },
  {
   "cell_type": "code",
   "execution_count": 4,
   "id": "efedfccd-4d4b-4a4d-9604-6710dad08b81",
   "metadata": {},
   "outputs": [],
   "source": [
    "transaction['list_price']=transaction['list_price'].str.replace(',','.')\n",
    "transaction['standard_cost']=transaction['standard_cost'].str.replace(',','.')"
   ]
  },
  {
   "cell_type": "code",
   "execution_count": 5,
   "id": "fd951c51-764c-42eb-849d-0085f96968d7",
   "metadata": {},
   "outputs": [],
   "source": [
    "import psycopg2 \n",
    "\n",
    "import psycopg2.extras as extras \n",
    "import pandas as pd \n",
    "\n",
    "\n",
    "def execute_values(conn, df, table): \n",
    "    tuples = [tuple(x) for x in df.to_numpy()] \n",
    "    cols = ','.join(list(df.columns)) \n",
    "    query = \"INSERT INTO %s(%s) VALUES %%s\" % (table, cols) \n",
    "    cursor = conn.cursor() \n",
    "    try: \n",
    "        extras.execute_values(cursor, query, tuples) \n",
    "        conn.commit() \n",
    "        return True\n",
    "    except (Exception, psycopg2.DatabaseError) as error: \n",
    "        print(\"Ошибка: %s\" % error) \n",
    "        conn.rollback() \n",
    "        return False\n",
    "    finally:\n",
    "        cursor.close() \n",
    "\n",
    "\n",
    "conn = psycopg2.connect( \n",
    "\tdatabase=\"postgres\", user='postgres', password='arsen', host='127.0.0.1', port='5433'\n",
    ") "
   ]
  },
  {
   "cell_type": "code",
   "execution_count": 7,
   "id": "8ae6d3ce-d370-41a4-b1e7-6fb24e1e2ad8",
   "metadata": {},
   "outputs": [
    {
     "data": {
      "text/plain": [
       "True"
      ]
     },
     "execution_count": 7,
     "metadata": {},
     "output_type": "execute_result"
    }
   ],
   "source": [
    "execute_values(conn, customer, 'module3.customer') "
   ]
  },
  {
   "cell_type": "code",
   "execution_count": 8,
   "id": "5f6ae8cc-a9c2-4777-9e65-77f02a4a6f8d",
   "metadata": {},
   "outputs": [
    {
     "data": {
      "text/plain": [
       "True"
      ]
     },
     "execution_count": 8,
     "metadata": {},
     "output_type": "execute_result"
    }
   ],
   "source": [
    "execute_values(conn, transaction, 'module3.transaction')"
   ]
  },
  {
   "cell_type": "markdown",
   "id": "f9276fba",
   "metadata": {},
   "source": [
    "# Создание базы данных в PostgreSQL при помощи DBeaver"
   ]
  },
  {
   "cell_type": "markdown",
   "id": "23b0e8c0",
   "metadata": {},
   "source": [
    "CREATE SCHEMA module3;<br>\n",
    "<br>\n",
    "<br>\n",
    "CREATE table module3.transaction(<br>\n",
    "transaction_id int4 PRIMARY KEY,<br>\n",
    "product_id int4 NOT NULL,<br>\n",
    "brand varchar(30) NULL,<br>\n",
    "product_line varchar(30) NULL,<br>\n",
    "product_class varchar(30) NULL,<br>\n",
    "product_size varchar(30) null,<br>\n",
    "customer_id int4 NULL,<br>\n",
    "transaction_date timestamp NOT NULL,<br>\n",
    "online_order varchar(30) NULL,<br>\n",
    "order_status varchar(30) NOT NULL,<br>\n",
    "list_price float4 NOT NULL,<br>\n",
    "standard_cost float4 NULL,<br>\n",
    "FOREIGN KEY(customer_id) REFERENCES module1.customer(customer_id)<br>\n",
    ");<br>\n",
    "<br>\n",
    "CREATE table module3.customer(<br>\n",
    "customer_id int4 PRIMARY KEY,<br>\n",
    "first_name varchar(50) NULL,<br>\n",
    "last_name varchar(50) NULL,<br>\n",
    "gender varchar(30) NULL,<br>\n",
    "DOB timestamp NULL,<br>\n",
    "job_title varchar(50) NULL,<br>\n",
    "job_industry_category varchar(50) NULL,<br>\n",
    "wealth_segment varchar(50) NULL,<br>\n",
    "deceased_indicator varchar(50) NULL,<br>\n",
    "owns_car varchar(30) NULL,<br>\n",
    "address varchar(50) NULL,<br>\n",
    "postcode varchar(30) NULL,<br>\n",
    "state varchar(30) NULL,<br>\n",
    "country varchar(30) NULL,<br>\n",
    "property_valuation int4 NULL<br>\n",
    ");<br>"
   ]
  },
  {
   "cell_type": "markdown",
   "id": "3a69ebee",
   "metadata": {},
   "source": [
    "# Запросы к данным"
   ]
  },
  {
   "cell_type": "markdown",
   "id": "7fddc135",
   "metadata": {},
   "source": [
    "### Вывести распределение (количество) клиентов по сферам деятельности, отсортировав результат по убыванию количества. — (1 балл)\n",
    "select job_industry_category, count(*) from module3.customer <br>\n",
    "where job_industry_category is not null <br>\n",
    "group by job_industry_category order by count(*) desc;"
   ]
  },
  {
   "cell_type": "markdown",
   "id": "5033c066",
   "metadata": {},
   "source": [
    "### Найти сумму транзакций за каждый месяц по сферам деятельности, отсортировав по месяцам и по сфере деятельности. — (1 балл)\n",
    "select c.job_industry_category, extract(month from transaction_date) as month, sum(t.list_price) from module3.transaction t <br>\n",
    "inner join  module3.customer c on t.customer_id = c.customer_id and c.job_industry_category is not null <br>\n",
    "group by c.job_industry_category, extract(month from transaction_date) <br>\n",
    "order by extract(month from transaction_date), c.job_industry_category;"
   ]
  },
  {
   "cell_type": "markdown",
   "id": "8dde7ec9",
   "metadata": {},
   "source": [
    "### Вывести количество онлайн-заказов для всех брендов в рамках подтвержденных заказов клиентов из сферы IT. — (1 балл)\n",
    "select t.brand, count(*) from module3.transaction t <br>\n",
    "inner join  module3.customer c on t.customer_id = c.customer_id and c.job_industry_category='IT' <br>\n",
    "where t.order_status='Approved' and t.online_order='true' and t.brand is not null<br>\n",
    "group by t.brand;"
   ]
  },
  {
   "cell_type": "markdown",
   "id": "44545564",
   "metadata": {},
   "source": [
    "### Найти по всем клиентам сумму всех транзакций (list_price), максимум, минимум и количество транзакций, отсортировав результат по убыванию \n",
    "### суммы транзакций и количества клиентов. Выполните двумя способами: используя только group by и используя только оконные функции. \n",
    "### Сравните результат. — (2 балла)\n",
    "select distinct t.customer_id, c.first_name, c.last_name, sum(t.list_price), min(t.list_price), max(t.list_price), count(t.transaction_id) <br>\n",
    "from module3.transaction t <br>\n",
    "inner join  module3.customer c on t.customer_id = c.customer_id <br>\n",
    "group by t.customer_id, c.first_name, c.last_name<br>\n",
    "order by sum(t.list_price) desc,count(t.transaction_id) desc;<br>\n",
    "<br>\n",
    "select distinct t.customer_id, c.first_name, c.last_name, <br>\n",
    "sum(t.list_price) over(partition by t.customer_id, c.first_name, c.last_name ) as sum, <br>\n",
    "min(t.list_price) over(partition by t.customer_id, c.first_name, c.last_name ) as min, <br>\n",
    "max(t.list_price) over(partition by t.customer_id, c.first_name, c.last_name ) as max, <br>\n",
    "count(t.transaction_id) over(partition by t.customer_id, c.first_name, c.last_name)  as count<br>\n",
    "from module3.transaction t <br>\n",
    "inner join  module3.customer c on t.customer_id = c.customer_id <br>\n",
    "order by sum desc, count desc;<br>"
   ]
  },
  {
   "cell_type": "markdown",
   "id": "5191a463",
   "metadata": {},
   "source": [
    "### Найти имена и фамилии клиентов с минимальной/максимальной суммой транзакций за весь период (сумма транзакций не может быть null). \n",
    "### Напишите отдельные запросы для минимальной и максимальной суммы. — (2 балла)\n",
    "with v1 as (select distinct t.customer_id, c.first_name, c.last_name, sum(t.list_price) as sum <br>\n",
    "from module3.transaction t <br>\n",
    "inner join  module3.customer c on t.customer_id = c.customer_id <br>\n",
    "group by t.customer_id, c.first_name, c.last_name)<br>\n",
    "select first_name, last_name from v1<br>\n",
    "where sum = (select min(sum) from v1);<br>\n",
    "<br>\n",
    "with v1 as (select distinct t.customer_id, c.first_name, c.last_name, sum(t.list_price) as sum<br>\n",
    "from module3.transaction t <br>\n",
    "inner join  module3.customer c on t.customer_id = c.customer_id <br>\n",
    "group by t.customer_id, c.first_name, c.last_name)<br>\n",
    "select first_name, last_name from v1<br>\n",
    "where sum = (select max(sum) from v1);"
   ]
  },
  {
   "cell_type": "markdown",
   "id": "37797e85",
   "metadata": {},
   "source": [
    "### Вывести только самые первые транзакции клиентов. Решить с помощью оконных функций. — (1 балл)\n",
    "select * from ( <br>\n",
    "select t.*, row_number() over(partition by customer_id order by transaction_date) as num from module3.transaction t) v  <br>\n",
    "where num=1;"
   ]
  },
  {
   "cell_type": "markdown",
   "id": "4c71ad59",
   "metadata": {},
   "source": [
    "### Вывести имена, фамилии и профессии клиентов, между транзакциями которых был максимальный интервал (интервал вычисляется в днях) — (2 балла).\n",
    "with v as (select distinct t.customer_id, <br>\n",
    "max(t.transaction_date) over(partition by customer_id order by transaction_date) as max_d, <br>\n",
    "min(t.transaction_date) over(partition by customer_id order by transaction_date) as min_d, <br>\n",
    "max(t.transaction_date) over(partition by customer_id order by transaction_date)- min(t.transaction_date) over(partition by <br>customer_id order by transaction_date) as diff<br>\n",
    "from module3.transaction t<br>\n",
    "order by diff desc)<br>\n",
    "select v.customer_id, c.first_name, c.last_name, c.job_title from v <br>\n",
    "inner join  module3.customer c on v.customer_id = c.customer_id <br>\n",
    "where v.diff=(select max(diff) from v);"
   ]
  },
  {
   "cell_type": "code",
   "execution_count": null,
   "id": "976fa3d9",
   "metadata": {},
   "outputs": [],
   "source": []
  }
 ],
 "metadata": {
  "kernelspec": {
   "display_name": "Python 3 (ipykernel)",
   "language": "python",
   "name": "python3"
  },
  "language_info": {
   "codemirror_mode": {
    "name": "ipython",
    "version": 3
   },
   "file_extension": ".py",
   "mimetype": "text/x-python",
   "name": "python",
   "nbconvert_exporter": "python",
   "pygments_lexer": "ipython3",
   "version": "3.11.5"
  }
 },
 "nbformat": 4,
 "nbformat_minor": 5
}
